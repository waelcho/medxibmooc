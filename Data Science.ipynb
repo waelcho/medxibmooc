{
    "cells": [
        {
            "cell_type": "markdown",
            "metadata": {
                "collapsed": true
            },
            "source": "# My Jupyter Notebook on IBM Watson Studio"
        },
        {
            "cell_type": "markdown",
            "metadata": {},
            "source": "**Wael Chokri**\n\nData Scientist"
        },
        {
            "cell_type": "markdown",
            "metadata": {},
            "source": "*I am interested in data science because it allows me to unlock the hidden meaning in information and use it to solve complex problems.*"
        },
        {
            "cell_type": "markdown",
            "metadata": {},
            "source": "### A code for simple arithmetic expression (multiply 2 by 3)"
        },
        {
            "cell_type": "code",
            "execution_count": 1,
            "metadata": {},
            "outputs": [
                {
                    "data": {
                        "text/plain": "6"
                    },
                    "execution_count": 1,
                    "metadata": {},
                    "output_type": "execute_result"
                }
            ],
            "source": "2 * 3"
        },
        {
            "cell_type": "markdown",
            "metadata": {},
            "source": "Some of the popular languages that Data Scientists use are:\n\n1. Python\n2. R\n3. SQL\n4. Java\n5. Julia\n6. C++\n\nSome of the commonly used libraries used by Data Scientists include:\n\n- NumPy\n- Pandas\n- Scikit-learn\n- Matplotlib\n- Seaborn\n- TensorFlow\n- Apache Spark\n- ggplot2\n\n| Data Science Tools |\n| -------------|\n| RStudio |\n| Jupyter Notebooks |\n| Visual Studio |"
        },
        {
            "cell_type": "code",
            "execution_count": null,
            "metadata": {},
            "outputs": [],
            "source": ""
        }
    ],
    "metadata": {
        "kernelspec": {
            "display_name": "Python 3.10",
            "language": "python",
            "name": "python3"
        },
        "language_info": {
            "codemirror_mode": {
                "name": "ipython",
                "version": 3
            },
            "file_extension": ".py",
            "mimetype": "text/x-python",
            "name": "python",
            "nbconvert_exporter": "python",
            "pygments_lexer": "ipython3",
            "version": "3.10.13"
        }
    },
    "nbformat": 4,
    "nbformat_minor": 1
}